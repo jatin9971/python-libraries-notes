{
 "cells": [
  {
   "cell_type": "markdown",
   "metadata": {},
   "source": [
    "# Numpy is the Python library used to work with numerical data.\n",
    "\n",
    "* A numpy array is represented as numpy.ndarray, where 'nd' stands for N-dimensional.\n",
    "The data can be in any dimension: 1D - vector, 2D - matrix, 3D - tensors.\n",
    "* Numpy array vs Python list - A numpy array contains homogeneous data, making it faster compared to a Python list. Also, a Python list is stored in a 'pass by reference' format in memory, which means the memory doesn't store the actual data present inside the list; it actually stores the location reference of the data present in a list stored somewhere else. This is the reason why lists are heterogeneous.\n",
    "* One of the main reason of numpy array being fast is that the are written in C language so there is no overhead as we compare to python list. "
   ]
  },
  {
   "cell_type": "code",
   "execution_count": 1,
   "metadata": {},
   "outputs": [],
   "source": [
    "import numpy as np\n",
    "import random "
   ]
  },
  {
   "cell_type": "markdown",
   "metadata": {},
   "source": [
    "# Terminology we should know before starting\n",
    "* np.shape() - used to know the shape before we start working on the data \n",
    "* np.size() - this function return total number of elements inside our array\n",
    "* np.ndim() - to know dimensions of the array\n",
    "* type(arr_name) - python datatype. like list,tuple,set,dict,ndarray\n",
    "* arr_name.dtype - type of data stored inside the python type like. int,float,str etc"
   ]
  },
  {
   "cell_type": "code",
   "execution_count": 2,
   "metadata": {},
   "outputs": [
    {
     "name": "stdout",
     "output_type": "stream",
     "text": [
      "[[10  9]\n",
      " [ 8  7]\n",
      " [ 6  5]\n",
      " [ 4  3]\n",
      " [ 2  1]]\n"
     ]
    }
   ],
   "source": [
    "a = np.array([10,9,8,7,6,5,4,3,2,1]).reshape(5,2)\n",
    "\n",
    "print(a)"
   ]
  },
  {
   "cell_type": "code",
   "execution_count": 3,
   "metadata": {},
   "outputs": [
    {
     "name": "stdout",
     "output_type": "stream",
     "text": [
      "Shape of the array: (5, 2)\n",
      "No of elements inside the array: 10\n",
      "Dimensions of array: 2\n",
      "Python data type <class 'numpy.ndarray'>\n",
      "Type of data store inside and array int32\n"
     ]
    }
   ],
   "source": [
    "print('Shape of the array:',np.shape(a))\n",
    "print('No of elements inside the array:',np.size(a))\n",
    "print('Dimensions of array:',np.ndim(a))\n",
    "print('Python data type',type(a))\n",
    "print('Type of data store inside and array',a.dtype)\n"
   ]
  },
  {
   "cell_type": "markdown",
   "metadata": {},
   "source": [
    "# While creating a ndarray we can explicitely assign a datatype \n",
    "* This has a great advantage in memory consumption and speed of the data retrival \n",
    "* To achieve the above task we have to use a function called sys.getsizeof(arr_name) and import sys module\n",
    "* We can also do the same of ndarray which we already created by using a function- arr_name.astype('type')"
   ]
  },
  {
   "cell_type": "code",
   "execution_count": 4,
   "metadata": {},
   "outputs": [
    {
     "name": "stdout",
     "output_type": "stream",
     "text": [
      "initial dtype: int32\n",
      "initial memory utilization: 512\n",
      "memory utilization after conversion: 312\n"
     ]
    }
   ],
   "source": [
    "import sys\n",
    "\n",
    "arr = np.arange(100)\n",
    "print('initial dtype:',arr.dtype)\n",
    "print('initial memory utilization:',sys.getsizeof(arr))\n",
    "\n",
    "# lets create the same array where we can implicitly tell the dtype\n",
    "\n",
    "arr1 = np.arange(100,dtype='int16')\n",
    "print('memory utilization after conversion:',sys.getsizeof(arr1))\n",
    "\n",
    "# This would give a very big impact on the larger data"
   ]
  },
  {
   "cell_type": "code",
   "execution_count": 5,
   "metadata": {},
   "outputs": [
    {
     "name": "stdout",
     "output_type": "stream",
     "text": [
      "initial memory utilization: 512\n",
      "memory utilization after dtype conversion: 312\n"
     ]
    }
   ],
   "source": [
    "arr = np.arange(100)\n",
    "print('initial memory utilization:',sys.getsizeof(arr))\n",
    "arr1 = arr.astype('int16')\n",
    "print('memory utilization after dtype conversion:',sys.getsizeof(arr1))\n",
    "\n",
    "# this code also have the same effect as we seen above"
   ]
  },
  {
   "cell_type": "markdown",
   "metadata": {},
   "source": [
    "# Creating numpy array\n",
    "* np.array([\"array\"])\n",
    "* np.arange()\n",
    "* np.zeros()\n",
    "* np.ones()\n",
    "* np.empty()\n",
    "* np.random()\n",
    "* np.linspace()\n",
    "* np.identity()"
   ]
  },
  {
   "cell_type": "code",
   "execution_count": 6,
   "metadata": {},
   "outputs": [
    {
     "data": {
      "text/plain": [
       "array([1, 2, 3, 4, 5, 6])"
      ]
     },
     "execution_count": 6,
     "metadata": {},
     "output_type": "execute_result"
    }
   ],
   "source": [
    "np.array([1,2,3,4,5,6])"
   ]
  },
  {
   "cell_type": "code",
   "execution_count": 36,
   "metadata": {},
   "outputs": [
    {
     "data": {
      "text/plain": [
       "array([[ 0,  1,  2,  3,  4],\n",
       "       [ 5,  6,  7,  8,  9],\n",
       "       [10, 11, 12, 13, 14],\n",
       "       [15, 16, 17, 18, 19],\n",
       "       [20, 21, 22, 23, 24]])"
      ]
     },
     "execution_count": 36,
     "metadata": {},
     "output_type": "execute_result"
    }
   ],
   "source": [
    "np.arange((25)).reshape(5,5)"
   ]
  },
  {
   "cell_type": "code",
   "execution_count": 8,
   "metadata": {},
   "outputs": [
    {
     "data": {
      "text/plain": [
       "array([[0., 0., 0.],\n",
       "       [0., 0., 0.],\n",
       "       [0., 0., 0.],\n",
       "       [0., 0., 0.],\n",
       "       [0., 0., 0.]])"
      ]
     },
     "execution_count": 8,
     "metadata": {},
     "output_type": "execute_result"
    }
   ],
   "source": [
    "np.zeros((5,3))"
   ]
  },
  {
   "cell_type": "code",
   "execution_count": 9,
   "metadata": {},
   "outputs": [
    {
     "data": {
      "text/plain": [
       "array([[1., 1., 1.],\n",
       "       [1., 1., 1.],\n",
       "       [1., 1., 1.]])"
      ]
     },
     "execution_count": 9,
     "metadata": {},
     "output_type": "execute_result"
    }
   ],
   "source": [
    "np.ones((3,3))"
   ]
  },
  {
   "cell_type": "code",
   "execution_count": 10,
   "metadata": {},
   "outputs": [
    {
     "data": {
      "text/plain": [
       "array([[0., 0., 0.],\n",
       "       [0., 0., 0.]])"
      ]
     },
     "execution_count": 10,
     "metadata": {},
     "output_type": "execute_result"
    }
   ],
   "source": [
    "np.empty((2,3))"
   ]
  },
  {
   "cell_type": "code",
   "execution_count": 40,
   "metadata": {},
   "outputs": [
    {
     "data": {
      "text/plain": [
       "array([[15, 12],\n",
       "       [17, 11],\n",
       "       [15, 18],\n",
       "       [16, 19],\n",
       "       [18, 12]])"
      ]
     },
     "execution_count": 40,
     "metadata": {},
     "output_type": "execute_result"
    }
   ],
   "source": [
    "# for this we need to import a module called random\n",
    "\n",
    "np.random.randint(10,20,10).reshape(5,2)"
   ]
  },
  {
   "cell_type": "code",
   "execution_count": 12,
   "metadata": {},
   "outputs": [
    {
     "data": {
      "text/plain": [
       "array([ 5.        ,  5.40816327,  5.81632653,  6.2244898 ,  6.63265306,\n",
       "        7.04081633,  7.44897959,  7.85714286,  8.26530612,  8.67346939,\n",
       "        9.08163265,  9.48979592,  9.89795918, 10.30612245, 10.71428571,\n",
       "       11.12244898, 11.53061224, 11.93877551, 12.34693878, 12.75510204,\n",
       "       13.16326531, 13.57142857, 13.97959184, 14.3877551 , 14.79591837,\n",
       "       15.20408163, 15.6122449 , 16.02040816, 16.42857143, 16.83673469,\n",
       "       17.24489796, 17.65306122, 18.06122449, 18.46938776, 18.87755102,\n",
       "       19.28571429, 19.69387755, 20.10204082, 20.51020408, 20.91836735,\n",
       "       21.32653061, 21.73469388, 22.14285714, 22.55102041, 22.95918367,\n",
       "       23.36734694, 23.7755102 , 24.18367347, 24.59183673, 25.        ])"
      ]
     },
     "execution_count": 12,
     "metadata": {},
     "output_type": "execute_result"
    }
   ],
   "source": [
    "# this function used to get a linearly spaced array between a range\n",
    "\n",
    "np.linspace(5,25)"
   ]
  },
  {
   "cell_type": "code",
   "execution_count": 13,
   "metadata": {},
   "outputs": [
    {
     "data": {
      "text/plain": [
       "array([[1., 0., 0., 0., 0.],\n",
       "       [0., 1., 0., 0., 0.],\n",
       "       [0., 0., 1., 0., 0.],\n",
       "       [0., 0., 0., 1., 0.],\n",
       "       [0., 0., 0., 0., 1.]])"
      ]
     },
     "execution_count": 13,
     "metadata": {},
     "output_type": "execute_result"
    }
   ],
   "source": [
    "np.identity(5)"
   ]
  },
  {
   "cell_type": "markdown",
   "metadata": {},
   "source": [
    "# Reshaping / Tranpose / Flip\n",
    "* while reshaping an array we have to make sure that the number of elements inside the array and the new array are same otherwise python will through an error\n",
    "* transpose will change rows to columns and vice versa\n",
    "* flip function will flip all the elements upside dowm"
   ]
  },
  {
   "cell_type": "code",
   "execution_count": 14,
   "metadata": {},
   "outputs": [
    {
     "data": {
      "text/plain": [
       "array([[ 5.        ,  6.66666667],\n",
       "       [ 8.33333333, 10.        ],\n",
       "       [11.66666667, 13.33333333],\n",
       "       [15.        , 16.66666667],\n",
       "       [18.33333333, 20.        ]])"
      ]
     },
     "execution_count": 14,
     "metadata": {},
     "output_type": "execute_result"
    }
   ],
   "source": [
    "arr = np.linspace(5,20,10)\n",
    "\n",
    "new_shape = arr.reshape(5,2)\n",
    "\n",
    "new_shape"
   ]
  },
  {
   "cell_type": "code",
   "execution_count": 15,
   "metadata": {},
   "outputs": [
    {
     "name": "stdout",
     "output_type": "stream",
     "text": [
      "without tranpose: [[ 0  1  2  3  4  5  6  7  8  9]\n",
      " [10 11 12 13 14 15 16 17 18 19]\n",
      " [20 21 22 23 24 25 26 27 28 29]]\n",
      "after transpose [[ 0 10 20]\n",
      " [ 1 11 21]\n",
      " [ 2 12 22]\n",
      " [ 3 13 23]\n",
      " [ 4 14 24]\n",
      " [ 5 15 25]\n",
      " [ 6 16 26]\n",
      " [ 7 17 27]\n",
      " [ 8 18 28]\n",
      " [ 9 19 29]]\n"
     ]
    }
   ],
   "source": [
    "arr = np.arange(30).reshape(3,10)\n",
    "\n",
    "print('without tranpose:',arr)\n",
    "\n",
    "print('after transpose',np.transpose(arr))\n",
    "\n"
   ]
  },
  {
   "cell_type": "markdown",
   "metadata": {},
   "source": [
    "* flip()"
   ]
  },
  {
   "cell_type": "code",
   "execution_count": 16,
   "metadata": {},
   "outputs": [
    {
     "name": "stdout",
     "output_type": "stream",
     "text": [
      "[[ 0  1  2  3  4  5  6  7  8  9]\n",
      " [10 11 12 13 14 15 16 17 18 19]\n",
      " [20 21 22 23 24 25 26 27 28 29]]\n"
     ]
    },
    {
     "data": {
      "text/plain": [
       "array([[29, 28, 27, 26, 25, 24, 23, 22, 21, 20],\n",
       "       [19, 18, 17, 16, 15, 14, 13, 12, 11, 10],\n",
       "       [ 9,  8,  7,  6,  5,  4,  3,  2,  1,  0]])"
      ]
     },
     "execution_count": 16,
     "metadata": {},
     "output_type": "execute_result"
    }
   ],
   "source": [
    "arr = np.arange(30).reshape(3,10)\n",
    "\n",
    "print(arr)\n",
    "\n",
    "np.flip(arr)"
   ]
  },
  {
   "cell_type": "markdown",
   "metadata": {},
   "source": [
    "#  Sort() & Concat()"
   ]
  },
  {
   "cell_type": "code",
   "execution_count": 17,
   "metadata": {},
   "outputs": [
    {
     "name": "stdout",
     "output_type": "stream",
     "text": [
      "before sorting: [19 11 16 17 13 10 17 16 18 16]\n",
      "after sorting [10 11 13 16 16 16 17 17 18 19]\n"
     ]
    }
   ],
   "source": [
    "a = np.random.randint(10,20,10)\n",
    "\n",
    "print('before sorting:',a)\n",
    "\n",
    "print('after sorting',np.sort(a))"
   ]
  },
  {
   "cell_type": "markdown",
   "metadata": {},
   "source": [
    "* Concatenating means joining at the end "
   ]
  },
  {
   "cell_type": "code",
   "execution_count": 18,
   "metadata": {},
   "outputs": [
    {
     "name": "stdout",
     "output_type": "stream",
     "text": [
      "[ 5  7  9 11 13  1  1  1  1  1]\n"
     ]
    }
   ],
   "source": [
    "a = np.array([1,1,1,1,1])\n",
    "b = np.arange(5,15,2)\n",
    "\n",
    "c = np.concatenate((b,a))\n",
    "\n",
    "print(c)\n"
   ]
  },
  {
   "cell_type": "markdown",
   "metadata": {},
   "source": [
    "# Creating array from existing data\n",
    "* hstack()\n",
    "* vstack()\n",
    "* hsplit()"
   ]
  },
  {
   "cell_type": "code",
   "execution_count": 19,
   "metadata": {},
   "outputs": [
    {
     "name": "stdout",
     "output_type": "stream",
     "text": [
      "horizontal stack: [10 20 30 40 50 60]\n",
      "vertical stack: [[10 20 30]\n",
      " [40 50 60]]\n"
     ]
    }
   ],
   "source": [
    "a = np.array([10,20,30])\n",
    "b = np.array([40,50,60])\n",
    "\n",
    "c = np.hstack((a,b))\n",
    "print('horizontal stack:',c)\n",
    "\n",
    "c = np.vstack((a,b))\n",
    "print('vertical stack:',c)"
   ]
  },
  {
   "cell_type": "code",
   "execution_count": 20,
   "metadata": {},
   "outputs": [
    {
     "data": {
      "text/plain": [
       "[array([[10, 20, 30]]), array([[40, 50, 60]])]"
      ]
     },
     "execution_count": 20,
     "metadata": {},
     "output_type": "execute_result"
    }
   ],
   "source": [
    "# lets split the array we have created above\n",
    "# syntax -> np.split(arr_name,parts)\n",
    "np.split(c,2)\n"
   ]
  },
  {
   "cell_type": "markdown",
   "metadata": {},
   "source": [
    "# Introducing new dimension to an existing array\n",
    "* np.newaxis()\n",
    "* np.expand_dims"
   ]
  },
  {
   "cell_type": "code",
   "execution_count": 21,
   "metadata": {},
   "outputs": [
    {
     "name": "stdout",
     "output_type": "stream",
     "text": [
      "[[ 0  1  2  3]\n",
      " [ 4  5  6  7]\n",
      " [ 8  9 10 11]\n",
      " [12 13 14 15]\n",
      " [16 17 18 19]]\n"
     ]
    }
   ],
   "source": [
    "a = np.arange(20).reshape(5,4)\n",
    "\n",
    "print(a)"
   ]
  },
  {
   "cell_type": "code",
   "execution_count": 22,
   "metadata": {},
   "outputs": [
    {
     "name": "stdout",
     "output_type": "stream",
     "text": [
      "[[[ 0  1  2  3]\n",
      "  [ 4  5  6  7]\n",
      "  [ 8  9 10 11]\n",
      "  [12 13 14 15]\n",
      "  [16 17 18 19]]]\n"
     ]
    }
   ],
   "source": [
    "# introdung new dimension along columns\n",
    "\n",
    "r = a[np.newaxis,:]\n",
    "print(r)"
   ]
  },
  {
   "cell_type": "code",
   "execution_count": 23,
   "metadata": {},
   "outputs": [
    {
     "name": "stdout",
     "output_type": "stream",
     "text": [
      "[[[ 0  1  2  3]]\n",
      "\n",
      " [[ 4  5  6  7]]\n",
      "\n",
      " [[ 8  9 10 11]]\n",
      "\n",
      " [[12 13 14 15]]\n",
      "\n",
      " [[16 17 18 19]]]\n"
     ]
    }
   ],
   "source": [
    "# introdung new dimension along rows. \n",
    "\n",
    "c = a[:,np.newaxis]\n",
    "\n",
    "print(c)"
   ]
  },
  {
   "cell_type": "code",
   "execution_count": 24,
   "metadata": {},
   "outputs": [
    {
     "name": "stdout",
     "output_type": "stream",
     "text": [
      "[[[1. 0. 0. 0. 0.]\n",
      "  [0. 1. 0. 0. 0.]\n",
      "  [0. 0. 1. 0. 0.]\n",
      "  [0. 0. 0. 1. 0.]\n",
      "  [0. 0. 0. 0. 1.]]]\n"
     ]
    }
   ],
   "source": [
    "a = np.identity(5)\n",
    "\n",
    "b = np.expand_dims(a,axis=0)\n",
    "\n",
    "print(b)"
   ]
  },
  {
   "cell_type": "code",
   "execution_count": 25,
   "metadata": {},
   "outputs": [
    {
     "name": "stdout",
     "output_type": "stream",
     "text": [
      "[[[1. 0. 0. 0. 0.]]\n",
      "\n",
      " [[0. 1. 0. 0. 0.]]\n",
      "\n",
      " [[0. 0. 1. 0. 0.]]\n",
      "\n",
      " [[0. 0. 0. 1. 0.]]\n",
      "\n",
      " [[0. 0. 0. 0. 1.]]]\n"
     ]
    }
   ],
   "source": [
    "c = np.expand_dims(a,axis=1)\n",
    "\n",
    "print(c)"
   ]
  },
  {
   "cell_type": "markdown",
   "metadata": {},
   "source": [
    "# flatten() / ravel()\n",
    "\n",
    "* These function's are used to flatted a multi-dimensional array to 1D. Both the function's work exactly the same the only difference is that when we use the flatten and make chages in the new array the changes we made wouldn't be reflected on new array. But opposite of this is true"
   ]
  },
  {
   "cell_type": "code",
   "execution_count": 26,
   "metadata": {},
   "outputs": [
    {
     "name": "stdout",
     "output_type": "stream",
     "text": [
      "[1. 0. 0. 0. 0. 0. 1. 0. 0. 0. 0. 0. 1. 0. 0. 0. 0. 0. 1. 0. 0. 0. 0. 0.\n",
      " 1.]\n",
      "[1. 0. 0. 0. 0. 0. 1. 0. 0. 0. 0. 0. 1. 0. 0. 0. 0. 0. 1. 0. 0. 0. 0. 0.\n",
      " 1.]\n"
     ]
    }
   ],
   "source": [
    "c = np.expand_dims(a,axis=1)\n",
    "\n",
    "print(c.flatten())\n",
    "print(c.ravel())"
   ]
  },
  {
   "cell_type": "markdown",
   "metadata": {},
   "source": [
    "# Basis arithmetic operation's on ndarray"
   ]
  },
  {
   "cell_type": "code",
   "execution_count": 27,
   "metadata": {},
   "outputs": [
    {
     "name": "stdout",
     "output_type": "stream",
     "text": [
      "Sum:         [[[1. 0. 0. 0. 0.]]\n",
      "\n",
      " [[0. 1. 0. 0. 0.]]\n",
      "\n",
      " [[0. 0. 1. 0. 0.]]\n",
      "\n",
      " [[0. 0. 0. 1. 0.]]\n",
      "\n",
      " [[0. 0. 0. 0. 1.]]]\n",
      "Subtraction: [45 54 63 72]\n",
      "multiply:    [250 360 490 640]\n",
      "divide:      [10. 10. 10. 10.]\n",
      "product:     16800000\n",
      "cumulative sum:     [ 50 110 180 260]\n",
      "cumulative product: [      50     3000   210000 16800000]\n",
      "percentile 71.0\n"
     ]
    }
   ],
   "source": [
    "a = np.array([50,60,70,80])\n",
    "b = np.array([5,6,7,8])\n",
    "\n",
    "# functions which can be performed btw two ndarrays\n",
    "c2 = np.sum((a,b),axis=0)     # if we don't define the axis it will give us the sum of all elements from both the array\n",
    "s = np.subtract(a,b)\n",
    "m = np.multiply(a,b)\n",
    "d = np.divide(a,b)\n",
    "\n",
    "\n",
    "\n",
    "# these function should be performed on a array\n",
    "prod = a.prod()\n",
    "cumprod = a.cumprod()\n",
    "cumsum = a.cumsum()\n",
    "percentile = np.percentile(a,70) # syntax np.percentile(ndarray,value)\n",
    "\n",
    "\n",
    "\n",
    "print('Sum:        ',c)\n",
    "print('Subtraction:',s)\n",
    "print('multiply:   ',m)\n",
    "print('divide:     ',d)\n",
    "print('product:    ',prod)\n",
    "print('cumulative sum:    ',cumsum)\n",
    "print('cumulative product:',cumprod)\n",
    "print('percentile',percentile)\n",
    "\n"
   ]
  },
  {
   "cell_type": "markdown",
   "metadata": {},
   "source": [
    "# Indexing / Slicing / Fancy Indexing\n",
    "\n",
    "* This is used to access the elements\n",
    "* indexing-- arr[postion]\n",
    "* slicing-- arr[rows:columns]\n",
    "* fancy-- indexing arr[position]\n",
    "* `Note`: We can always combine all the above three to get the desired result"
   ]
  },
  {
   "cell_type": "code",
   "execution_count": 28,
   "metadata": {},
   "outputs": [
    {
     "data": {
      "text/plain": [
       "13"
      ]
     },
     "execution_count": 28,
     "metadata": {},
     "output_type": "execute_result"
    }
   ],
   "source": [
    "arr = np.arange(30).reshape(6,5)\n",
    "\n",
    "arr[2,3]"
   ]
  },
  {
   "cell_type": "code",
   "execution_count": 29,
   "metadata": {},
   "outputs": [
    {
     "name": "stdout",
     "output_type": "stream",
     "text": [
      "[[ 0  1  2  3  4]\n",
      " [ 5  6  7  8  9]\n",
      " [10 11 12 13 14]\n",
      " [15 16 17 18 19]\n",
      " [20 21 22 23 24]\n",
      " [25 26 27 28 29]]\n"
     ]
    },
    {
     "data": {
      "text/plain": [
       "array([[ 0,  2,  4],\n",
       "       [10, 12, 14],\n",
       "       [20, 22, 24]])"
      ]
     },
     "execution_count": 29,
     "metadata": {},
     "output_type": "execute_result"
    }
   ],
   "source": [
    "#slicing\n",
    "\n",
    "arr = np.arange(30).reshape(6,5)\n",
    "\n",
    "print(arr)\n",
    "\n",
    "arr[::2,::2] # to extract every alternate elemnts btw rows and cols"
   ]
  },
  {
   "cell_type": "code",
   "execution_count": 30,
   "metadata": {},
   "outputs": [
    {
     "data": {
      "text/plain": [
       "array([12, 25, 24])"
      ]
     },
     "execution_count": 30,
     "metadata": {},
     "output_type": "execute_result"
    }
   ],
   "source": [
    "#fancy indexing is used when we can't cut out the elements just by using slicing and indexing\n",
    "arr[[2,5,4],[2,0,-1]]"
   ]
  },
  {
   "cell_type": "code",
   "execution_count": 31,
   "metadata": {},
   "outputs": [
    {
     "data": {
      "text/plain": [
       "array([[ 2,  4],\n",
       "       [ 7,  9],\n",
       "       [12, 14],\n",
       "       [17, 19],\n",
       "       [22, 24],\n",
       "       [27, 29]])"
      ]
     },
     "execution_count": 31,
     "metadata": {},
     "output_type": "execute_result"
    }
   ],
   "source": [
    "arr[:,[2,4]]"
   ]
  },
  {
   "cell_type": "markdown",
   "metadata": {},
   "source": [
    "# Some other useful functions\n",
    "\n",
    "Both these functions return the index value\n",
    "* np.argmax(arr)\n",
    "* np.argmin(arr)\n"
   ]
  },
  {
   "cell_type": "code",
   "execution_count": 32,
   "metadata": {},
   "outputs": [
    {
     "data": {
      "text/plain": [
       "array([[[143, 135, 118, 106, 146]],\n",
       "\n",
       "       [[136, 132, 108, 134, 149]],\n",
       "\n",
       "       [[115, 119, 108, 129, 139]],\n",
       "\n",
       "       [[122, 119, 143, 123, 141]],\n",
       "\n",
       "       [[129, 112, 101, 100, 128]],\n",
       "\n",
       "       [[109, 123, 147, 113, 138]],\n",
       "\n",
       "       [[127, 105, 134, 117, 105]],\n",
       "\n",
       "       [[125, 121, 119, 127, 142]],\n",
       "\n",
       "       [[133, 113, 123, 117, 107]],\n",
       "\n",
       "       [[123, 102, 148, 103, 116]]])"
      ]
     },
     "execution_count": 32,
     "metadata": {},
     "output_type": "execute_result"
    }
   ],
   "source": [
    "arr = np.random.randint(100,150,50)\n",
    "\n",
    "new_arr = arr.reshape(10,5)\n",
    "\n",
    "np.expand_dims(new_arr,axis=1)\n"
   ]
  },
  {
   "cell_type": "code",
   "execution_count": 33,
   "metadata": {},
   "outputs": [
    {
     "name": "stdout",
     "output_type": "stream",
     "text": [
      "[4 4 4 2 0 2 2 4 0 2]\n",
      "[5 9 4 4 6]\n"
     ]
    }
   ],
   "source": [
    "print(np.argmax(new_arr,axis=1)) # axis=1 means rowwise\n",
    "print(np.argmin(new_arr,axis=0)) # axis=0 means columnwise"
   ]
  },
  {
   "cell_type": "markdown",
   "metadata": {},
   "source": [
    "# Boolena masking"
   ]
  },
  {
   "cell_type": "code",
   "execution_count": 34,
   "metadata": {},
   "outputs": [
    {
     "name": "stdout",
     "output_type": "stream",
     "text": [
      "[143 135 146 136 132 134 149 129 139 122 143 123 141 129 128 123 147 138\n",
      " 127 134 125 121 127 142 133 123 123 148]\n",
      "[118 106 146 136 132 108 134 108 122 112 100 128 138 134 142 102 148 116]\n"
     ]
    }
   ],
   "source": [
    "# Get all the elemenst for the above array between 120 and 140\n",
    "\n",
    "print(new_arr[new_arr > 120])\n",
    "print(new_arr[new_arr%2==0])"
   ]
  },
  {
   "cell_type": "code",
   "execution_count": null,
   "metadata": {},
   "outputs": [],
   "source": []
  }
 ],
 "metadata": {
  "kernelspec": {
   "display_name": "Python 3",
   "language": "python",
   "name": "python3"
  },
  "language_info": {
   "codemirror_mode": {
    "name": "ipython",
    "version": 3
   },
   "file_extension": ".py",
   "mimetype": "text/x-python",
   "name": "python",
   "nbconvert_exporter": "python",
   "pygments_lexer": "ipython3",
   "version": "3.10.11"
  },
  "orig_nbformat": 4
 },
 "nbformat": 4,
 "nbformat_minor": 2
}
